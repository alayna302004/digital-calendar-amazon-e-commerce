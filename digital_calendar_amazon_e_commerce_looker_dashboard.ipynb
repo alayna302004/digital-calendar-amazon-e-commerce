{
  "nbformat": 4,
  "nbformat_minor": 0,
  "metadata": {
    "colab": {
      "provenance": [],
      "authorship_tag": "ABX9TyMdd/907Xfhx6xJgtk2KdaB",
      "include_colab_link": true
    },
    "kernelspec": {
      "name": "python3",
      "display_name": "Python 3"
    },
    "language_info": {
      "name": "python"
    }
  },
  "cells": [
    {
      "cell_type": "markdown",
      "metadata": {
        "id": "view-in-github",
        "colab_type": "text"
      },
      "source": [
        "<a href=\"https://colab.research.google.com/github/alayna302004/digital-calendar-amazon-e-commerce/blob/main/digital_calendar_amazon_e_commerce_looker_dashboard.ipynb\" target=\"_parent\"><img src=\"https://colab.research.google.com/assets/colab-badge.svg\" alt=\"Open In Colab\"/></a>"
      ]
    },
    {
      "cell_type": "markdown",
      "source": [
        "https://lookerstudio.google.com/reporting/21d86915-cddf-4910-b079-dccb5125b1cf"
      ],
      "metadata": {
        "id": "aD1KnmEmPuuS"
      }
    }
  ]
}